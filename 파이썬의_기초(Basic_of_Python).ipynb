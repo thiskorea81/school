{
  "nbformat": 4,
  "nbformat_minor": 0,
  "metadata": {
    "colab": {
      "provenance": [],
      "authorship_tag": "ABX9TyMdSMB6M5tXtUqmpVMgjvWl",
      "include_colab_link": true
    },
    "kernelspec": {
      "name": "python3",
      "display_name": "Python 3"
    },
    "language_info": {
      "name": "python"
    }
  },
  "cells": [
    {
      "cell_type": "markdown",
      "metadata": {
        "id": "view-in-github",
        "colab_type": "text"
      },
      "source": [
        "<a href=\"https://colab.research.google.com/github/thiskorea81/school/blob/main/%ED%8C%8C%EC%9D%B4%EC%8D%AC%EC%9D%98_%EA%B8%B0%EC%B4%88(Basic_of_Python).ipynb\" target=\"_parent\"><img src=\"https://colab.research.google.com/assets/colab-badge.svg\" alt=\"Open In Colab\"/></a>"
      ]
    },
    {
      "cell_type": "markdown",
      "source": [
        "# 1. Hello, World"
      ],
      "metadata": {
        "id": "d853M3Yn-b6w"
      }
    },
    {
      "cell_type": "code",
      "execution_count": null,
      "metadata": {
        "colab": {
          "base_uri": "https://localhost:8080/"
        },
        "id": "93kSTRMU-DmM",
        "outputId": "fd4ad3c2-e235-4f54-ec19-0ef58982a2b8"
      },
      "outputs": [
        {
          "output_type": "stream",
          "name": "stdout",
          "text": [
            "Hello, World\n"
          ]
        }
      ],
      "source": [
        "print(\"Hello, World\")"
      ]
    },
    {
      "cell_type": "markdown",
      "source": [
        "# 2. 리터럴과 변수(Literal and Var)"
      ],
      "metadata": {
        "id": "gINQ37H6AYm5"
      }
    },
    {
      "cell_type": "code",
      "source": [
        "print(\"1+2+3=6\")     #리터럴(문자) literal(char)  #주석 실행x설명o\n",
        "print(1+2+3)         #리터럴(숫자) literal(num)\n",
        "print(5<=3)          #리터럴(부울) literal(bool)\n",
        "\n",
        "#var 변수\n",
        "a=1\n",
        "b=2\n",
        "c=3\n",
        "print(a+b+c)"
      ],
      "metadata": {
        "colab": {
          "base_uri": "https://localhost:8080/"
        },
        "id": "Ny9AB9lRAoVQ",
        "outputId": "51f77811-08c5-4c9c-a7ff-5b684155f3c8"
      },
      "execution_count": null,
      "outputs": [
        {
          "output_type": "stream",
          "name": "stdout",
          "text": [
            "1+2+3=6\n",
            "6\n",
            "False\n",
            "6\n"
          ]
        }
      ]
    },
    {
      "cell_type": "markdown",
      "source": [
        "# 3. 자료형 data type"
      ],
      "metadata": {
        "id": "CKkfM3-DD05Z"
      }
    },
    {
      "cell_type": "code",
      "source": [
        "a=30      #자료형 정수 int\n",
        "b=3.14    #자료형 실수 float\n",
        "c=3+5j    #자료형 복소수 complex\n",
        "\n",
        "# 숫자와 자료형(data type)을 출력\n",
        "print(a, type(a))\n",
        "print(b, type(b))\n",
        "print(c, type(c))"
      ],
      "metadata": {
        "colab": {
          "base_uri": "https://localhost:8080/"
        },
        "id": "AMiWYxPVD9Ox",
        "outputId": "6db7ee53-16c6-4b68-a1a4-4749a3127dd9"
      },
      "execution_count": null,
      "outputs": [
        {
          "output_type": "stream",
          "name": "stdout",
          "text": [
            "30 <class 'int'>\n",
            "3.14 <class 'float'>\n",
            "(3+5j) <class 'complex'>\n"
          ]
        }
      ]
    },
    {
      "cell_type": "code",
      "source": [
        "# 4반 특권\n",
        "# 0.1+0.1+0.1=0.3 같지 않다고 출력\n",
        "print(0.1+0.1+0.1 == 0.3)"
      ],
      "metadata": {
        "colab": {
          "base_uri": "https://localhost:8080/"
        },
        "id": "_nCghlQjFZSS",
        "outputId": "b386b970-4361-4721-dc9a-207fd06f340c"
      },
      "execution_count": null,
      "outputs": [
        {
          "output_type": "stream",
          "name": "stdout",
          "text": [
            "False\n"
          ]
        }
      ]
    },
    {
      "cell_type": "code",
      "source": [
        "d=\"Hello\"     # 자료형 문자열(str)\n",
        "e=1,2,3,4,5   # 자료형 튜플(tupple)\n",
        "f=[6,7,8,9,10]# 자료형 리스트(list)\n",
        "\n",
        "# 값과 자료형 출력\n",
        "print(d, type(d))\n",
        "print(e, type(e))\n",
        "print(f, type(f))"
      ],
      "metadata": {
        "colab": {
          "base_uri": "https://localhost:8080/"
        },
        "id": "ieGXDm1syqeM",
        "outputId": "b263bc9d-ada2-4b70-a850-cdc81f733679"
      },
      "execution_count": 3,
      "outputs": [
        {
          "output_type": "stream",
          "name": "stdout",
          "text": [
            "Hello <class 'str'>\n",
            "(1, 2, 3, 4, 5) <class 'tuple'>\n",
            "[6, 7, 8, 9, 10] <class 'list'>\n"
          ]
        }
      ]
    },
    {
      "cell_type": "code",
      "source": [
        "# 아스키코드 ord(), chr()\n",
        "# 7비트, ASCII\n",
        "print(ord(\"A\"))   # 'A'의 아스키코드값을 10진수로 출력\n",
        "\n",
        "print(chr(70))    # 아스키코드값 70에 해당하는 문자를 출력"
      ],
      "metadata": {
        "colab": {
          "base_uri": "https://localhost:8080/"
        },
        "id": "vocz25Ge1kFE",
        "outputId": "445066de-8058-4143-cad0-813af75cd5d3"
      },
      "execution_count": 4,
      "outputs": [
        {
          "output_type": "stream",
          "name": "stdout",
          "text": [
            "65\n",
            "F\n"
          ]
        }
      ]
    },
    {
      "cell_type": "code",
      "source": [
        "# 문자열 변수\n",
        "s='Python'    #문자열 빨강\n",
        "s2='lenna'\n",
        "\n",
        "print(s[1])   #s문자열의 1번을 출력\n",
        "print(s2[1:3])#s2문자열의 1:3을 출력(1이상 3미만)\n",
        "\n",
        "print(s+s2)   #문자열 더하기\n",
        "print(s,s2)   #문자열 연속 출력\n",
        "\n",
        "print(s*10)   #문자열 곱하기(반복)"
      ],
      "metadata": {
        "colab": {
          "base_uri": "https://localhost:8080/"
        },
        "id": "bAXik4h12x0U",
        "outputId": "c3516765-f061-43c1-fa9a-07695978e362"
      },
      "execution_count": 12,
      "outputs": [
        {
          "output_type": "stream",
          "name": "stdout",
          "text": [
            "y\n",
            "en\n",
            "Pythonlenna\n",
            "Python lenna\n",
            "PythonPythonPythonPythonPythonPythonPythonPythonPythonPython\n"
          ]
        }
      ]
    },
    {
      "cell_type": "code",
      "source": [
        "#부울 변수\n",
        "a=True\n",
        "b=10<3\n",
        "\n",
        "print(a)\n",
        "print(b)\n",
        "\n",
        "print(a and b)   # a와 b가 모두 참(True)일 때 True\n",
        "print(a or b)    # a, b 둘 중 하나만 참(True)이어도 True\n",
        "\n",
        "print(a+b)       # a는 True, b는 False\n",
        "print(a+a)\n",
        "print(b+b)"
      ],
      "metadata": {
        "colab": {
          "base_uri": "https://localhost:8080/"
        },
        "id": "H2PMlKEB5YCV",
        "outputId": "6f49eb7d-1f27-405c-b130-447959c32415"
      },
      "execution_count": 15,
      "outputs": [
        {
          "output_type": "stream",
          "name": "stdout",
          "text": [
            "True\n",
            "False\n",
            "False\n",
            "True\n",
            "1\n",
            "2\n",
            "0\n"
          ]
        }
      ]
    }
  ]
}